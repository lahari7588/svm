{
  "nbformat": 4,
  "nbformat_minor": 0,
  "metadata": {
    "colab": {
      "provenance": [],
      "authorship_tag": "ABX9TyPIGXm9+qv7Msylom6/DQDQ",
      "include_colab_link": true
    },
    "kernelspec": {
      "name": "python3",
      "display_name": "Python 3"
    },
    "language_info": {
      "name": "python"
    }
  },
  "cells": [
    {
      "cell_type": "markdown",
      "metadata": {
        "id": "view-in-github",
        "colab_type": "text"
      },
      "source": [
        "<a href=\"https://colab.research.google.com/github/NAGAVAM/svm/blob/main/SVM.ipynb\" target=\"_parent\"><img src=\"https://colab.research.google.com/assets/colab-badge.svg\" alt=\"Open In Colab\"/></a>"
      ]
    },
    {
      "cell_type": "code",
      "execution_count": 32,
      "metadata": {
        "colab": {
          "base_uri": "https://localhost:8080/"
        },
        "id": "PwZNdIMfLKgt",
        "outputId": "7984d28a-c77d-4581-ee29-b68ae65ab930"
      },
      "outputs": [
        {
          "output_type": "stream",
          "name": "stdout",
          "text": [
            "Drive already mounted at /content/drive; to attempt to forcibly remount, call drive.mount(\"/content/drive\", force_remount=True).\n",
            "cp: cannot stat '/content/drive/MyDrive/cats-and-dogs.zip': No such file or directory\n"
          ]
        }
      ],
      "source": [
        "from google.colab import drive\n",
        "drive.mount('/content/drive')\n",
        "\n",
        "# Assuming your file 'cats-and-dogs.zip' is in 'My Drive'\n",
        "!cp /content/drive/MyDrive/cats-and-dogs.zip ."
      ]
    },
    {
      "cell_type": "code",
      "source": [
        "import os\n",
        "import numpy as np\n",
        "import cv2\n",
        "from sklearn.model_selection import train_test_split\n",
        "from sklearn.svm import SVC\n",
        "from sklearn.preprocessing import LabelEncoder\n",
        "from sklearn.metrics import classification_report, accuracy_score\n"
      ],
      "metadata": {
        "id": "RhxTv7URXxqm"
      },
      "execution_count": null,
      "outputs": []
    },
    {
      "cell_type": "code",
      "source": [
        "\n",
        "def load_images(data_dir, img_size=(128, 128)):\n",
        "    images = []\n",
        "    labels = []\n",
        "    for label in ['cat', 'dog']:  # Assuming folder names are 'cat' and 'dog'\n",
        "        folder_path = os.path.join(data_dir, label)\n",
        "        # Check if the folder exists before attempting to access it\n",
        "        if os.path.exists(folder_path):\n",
        "            for img_file in os.listdir(folder_path):\n",
        "                img_path = os.path.join(folder_path, img_file)\n",
        "                img = cv2.imread(img_path)\n",
        "                img = cv2.resize(img, img_size)  # Resize image\n",
        "                images.append(img)\n",
        "                labels.append(label)\n",
        "        else:\n",
        "            print(f\"Warning: Folder '{folder_path}' not found. Skipping.\")\n",
        "    return np.array(images), np.array(labels)\n",
        "\n",
        "# Load dataset\n",
        "!unzip cats-and-dogs.zip # Extract the zip file\n",
        "# Update data_dir to the actual path where images are located after unzip\n",
        "data_dir = './train'  # If the 'train' folder is directly inside 'cats-and-dogs' after unzipping\n",
        "# Alternatively, if there's a subfolder like 'PetImages' within 'cats-and-dogs':\n",
        "# data_dir = './cats-and-dogs/PetImages'\n",
        "# or './cats-and-dogs/train' if that is the correct structure.\n",
        "X, y = load_images(data_dir)"
      ],
      "metadata": {
        "colab": {
          "base_uri": "https://localhost:8080/"
        },
        "id": "3qfeefgVZNTZ",
        "outputId": "773bc542-5f6d-4660-e267-8687e55b8cfd"
      },
      "execution_count": 33,
      "outputs": [
        {
          "output_type": "stream",
          "name": "stdout",
          "text": [
            "unzip:  cannot find or open cats-and-dogs.zip, cats-and-dogs.zip.zip or cats-and-dogs.zip.ZIP.\n",
            "Warning: Folder './train/cat' not found. Skipping.\n",
            "Warning: Folder './train/dog' not found. Skipping.\n"
          ]
        }
      ]
    },
    {
      "cell_type": "code",
      "source": [
        "X = X / 255.0  # Normalize images to [0, 1]\n"
      ],
      "metadata": {
        "id": "zteX_RidZkL2"
      },
      "execution_count": null,
      "outputs": []
    },
    {
      "cell_type": "code",
      "source": [
        "le = LabelEncoder()\n",
        "y = le.fit_transform(y)  # Encode labels (0 for cat, 1 for dog)\n"
      ],
      "metadata": {
        "id": "j8s1s6fiZoKY"
      },
      "execution_count": null,
      "outputs": []
    },
    {
      "cell_type": "code",
      "source": [
        "\n",
        "# Print shapes for debugging\n",
        "print(\"Shape of X:\", X.shape)\n",
        "print(\"Shape of y:\", y.shape)"
      ],
      "metadata": {
        "colab": {
          "base_uri": "https://localhost:8080/"
        },
        "id": "fqcvp8UPZq_m",
        "outputId": "9ee5f30c-9ceb-4677-8d53-9edaa929f5fd"
      },
      "execution_count": null,
      "outputs": [
        {
          "output_type": "stream",
          "name": "stdout",
          "text": [
            "Shape of X: (0,)\n",
            "Shape of y: (0,)\n"
          ]
        }
      ]
    },
    {
      "cell_type": "code",
      "source": [
        "\n",
        "\n",
        "# Check if any images were loaded\n",
        "if X.size == 0:\n",
        "    print(\"Error: No images were loaded. Please check the data_dir and image files.\")\n",
        "else:\n",
        "    # Reshape X to a 2D array (flattening)\n",
        "    X_flat = X.reshape(X.shape[0], -1)  # -1 infers the remaining dimension\n",
        "\n",
        "    # Now you can use X_flat in train_test_split\n",
        "    X_train, X_test, y_train, y_test = train_test_split(X_flat, y, test_size=0.2, random_state=42)"
      ],
      "metadata": {
        "colab": {
          "base_uri": "https://localhost:8080/"
        },
        "id": "Nsn0JOcFZ3ou",
        "outputId": "bef647b9-c0a0-4f32-c4a2-86e57f5ef111"
      },
      "execution_count": null,
      "outputs": [
        {
          "output_type": "stream",
          "name": "stdout",
          "text": [
            "Error: No images were loaded. Please check the data_dir and image files.\n"
          ]
        }
      ]
    },
    {
      "cell_type": "code",
      "source": [
        "\n",
        "\n",
        "def load_images(data_dir, img_size=(128, 128)):\n",
        "    images = []\n",
        "    labels = []\n",
        "    for label in ['cat', 'dog']:  # Assuming folder names are 'cat' and 'dog'\n",
        "        folder_path = os.path.join(data_dir, label)\n",
        "        # Check if the folder exists before attempting to access it\n",
        "        if os.path.exists(folder_path):\n",
        "            for img_file in os.listdir(folder_path):\n",
        "                img_path = os.path.join(folder_path, img_file)\n",
        "                # Check if the file is an image before attempting to read it\n",
        "                if img_file.lower().endswith(('.png', '.jpg', '.jpeg')): # Check file extension for images\n",
        "                    img = cv2.imread(img_path)\n",
        "                    if img is not None:  # Check if image was loaded successfully\n",
        "                        img = cv2.resize(img, img_size)  # Resize image\n",
        "                        images.append(img)\n",
        "                        labels.append(label)\n",
        "                    else:\n",
        "                        print(f\"Warning: Could not load image '{img_path}'. Skipping.\")\n",
        "                else:\n",
        "                    print(f\"Warning: File '{img_file}' is not an image. Skipping.\")\n",
        "        else:\n",
        "            print(f\"Warning: Folder '{folder_path}' not found. Skipping.\")\n",
        "    return np.array(images), np.array(labels)\n",
        "\n",
        "# Load dataset\n",
        "!unzip cats-and-dogs.zip # Extract the zip file\n",
        "# Update data_dir to the actual path where images are located after unzip\n",
        "data_dir = './train'  # If the 'train' folder is directly inside 'cats-and-dogs' after unzipping\n",
        "# Alternatively, if there's a subfolder like 'PetImages' within 'cats-and-dogs':\n",
        "# data_dir = './cats-and-dogs/PetImages'\n",
        "# or './cats-and-dogs/train' if that is the correct structure.\n",
        "X, y = load_images(data_dir)"
      ],
      "metadata": {
        "colab": {
          "base_uri": "https://localhost:8080/"
        },
        "id": "xM0FiEmWahYn",
        "outputId": "8c96a475-7eef-450e-c41c-b614a6cc3431"
      },
      "execution_count": null,
      "outputs": [
        {
          "output_type": "stream",
          "name": "stdout",
          "text": [
            "unzip:  cannot find or open cats-and-dogs.zip, cats-and-dogs.zip.zip or cats-and-dogs.zip.ZIP.\n",
            "Warning: Folder './train/cat' not found. Skipping.\n",
            "Warning: Folder './train/dog' not found. Skipping.\n"
          ]
        }
      ]
    },
    {
      "cell_type": "code",
      "source": [
        "from IPython import get_ipython\n",
        "from IPython.display import display\n",
        "# %%\n",
        "from google.colab import drive\n",
        "drive.mount('/content/drive')\n",
        "\n",
        "# Assuming your file 'cats-and-dogs.zip' is in 'My Drive'\n",
        "!cp /content/drive/MyDrive/cats-and-dogs.zip .\n",
        "# %%\n",
        "import os\n",
        "import numpy as np\n",
        "import cv2\n",
        "from sklearn.model_selection import train_test_split\n",
        "from sklearn.svm import SVC\n",
        "from sklearn.preprocessing import LabelEncoder\n",
        "from sklearn.metrics import classification_report, accuracy_score\n",
        "\n",
        "# %%\n",
        "\n",
        "def load_images(data_dir, img_size=(128, 128)):\n",
        "    images = []\n",
        "    labels = []\n",
        "    for label in ['cat', 'dog']:  # Assuming folder names are 'cat' and 'dog'\n",
        "        folder_path = os.path.join(data_dir, label)\n",
        "        # Check if the folder exists before attempting to access it\n",
        "        if os.path.exists(folder_path):\n",
        "            for img_file in os.listdir(folder_path):\n",
        "                img_path = os.path.join(folder_path, img_file)\n",
        "                img = cv2.imread(img_path)\n",
        "                img = cv2.resize(img, img_size)  # Resize image\n",
        "                images.append(img)\n",
        "                labels.append(label)\n",
        "        else:\n",
        "            print(f\"Warning: Folder '{folder_path}' not found. Skipping.\")\n",
        "    return np.array(images), np.array(labels)\n",
        "\n",
        "# Load dataset\n",
        "!unzip cats-and-dogs.zip # Extract the zip file\n",
        "# Update data_dir to the actual path where images are located after unzip\n",
        "data_dir = './train'  # If the 'train' folder is directly inside 'cats-and-dogs' after unzipping\n",
        "# Alternatively, if there's a subfolder like 'PetImages' within 'cats-and-dogs':\n",
        "# data_dir = './cats-and-dogs/PetImages'\n",
        "# or './cats-and-dogs/train' if that is the correct structure.\n",
        "X, y = load_images(data_dir)\n",
        "# %%\n",
        "X = X / 255.0  # Normalize images to [0, 1]\n",
        "\n",
        "# %%\n",
        "le = LabelEncoder()\n",
        "y = le.fit_transform(y)  # Encode labels (0 for cat, 1 for dog)\n",
        "\n",
        "# %%\n",
        "\n",
        "# Print shapes for debugging\n",
        "print(\"Shape of X:\", X.shape)\n",
        "print(\"Shape of y:\", y.shape)\n",
        "# %%\n",
        "\n",
        "\n",
        "# Check if any images were loaded\n",
        "if X.size == 0:\n",
        "    print(\"Error: No images were loaded. Please check the data_dir and image files.\")\n",
        "else:\n",
        "    # Reshape X to a 2D array (flattening)\n",
        "    X_flat = X.reshape(X.shape[0], -1)  # -1 infers the remaining dimension\n",
        "\n",
        "    # Now you can use X_flat in train_test_split\n",
        "    X_train, X_test, y_train, y_test = train_test_split(X_flat, y, test_size=0.2, random_state=42)\n",
        "\n",
        "    # Initialize and train the SVM model here\n",
        "    svm = SVC(kernel='linear', random_state=42) # Initialize the SVM model\n",
        "    svm.fit(X_train, y_train) # Train the model\n",
        "\n",
        "# %%\n",
        "# Moved the prediction and accuracy calculation inside the else block\n",
        "if X.size == 0:\n",
        "    print(\"Error: No images were loaded. Please check the data_dir and image files.\")\n",
        "else:\n",
        "    y_pred = svm"
      ],
      "metadata": {
        "colab": {
          "base_uri": "https://localhost:8080/"
        },
        "id": "-nDhCxOca1hW",
        "outputId": "e9a2bc59-e208-411e-882b-ec6cfb0c0ba1"
      },
      "execution_count": null,
      "outputs": [
        {
          "output_type": "stream",
          "name": "stdout",
          "text": [
            "Drive already mounted at /content/drive; to attempt to forcibly remount, call drive.mount(\"/content/drive\", force_remount=True).\n",
            "cp: cannot stat '/content/drive/MyDrive/cats-and-dogs.zip': No such file or directory\n",
            "unzip:  cannot find or open cats-and-dogs.zip, cats-and-dogs.zip.zip or cats-and-dogs.zip.ZIP.\n",
            "Warning: Folder './train/cat' not found. Skipping.\n",
            "Warning: Folder './train/dog' not found. Skipping.\n",
            "Shape of X: (0,)\n",
            "Shape of y: (0,)\n",
            "Error: No images were loaded. Please check the data_dir and image files.\n",
            "Error: No images were loaded. Please check the data_dir and image files.\n"
          ]
        }
      ]
    },
    {
      "cell_type": "code",
      "source": [
        "from IPython import get_ipython\n",
        "from IPython.display import display\n",
        "# %%\n",
        "from google.colab import drive\n",
        "drive.mount('/content/drive')\n",
        "\n",
        "# Assuming your file 'cats-and-dogs.zip' is in 'My Drive'\n",
        "!cp /content/drive/MyDrive/cats-and-dogs.zip .\n",
        "# %%\n",
        "import os\n",
        "import numpy as np\n",
        "import cv2\n",
        "from sklearn.model_selection import train_test_split\n",
        "from sklearn.svm import SVC\n",
        "from sklearn.preprocessing import LabelEncoder\n",
        "from sklearn.metrics import classification_report, accuracy_score\n",
        "\n",
        "# %%\n",
        "\n",
        "def load_images(data_dir, img_size=(128, 128)):\n",
        "    images = []\n",
        "    labels = []\n",
        "    for label in ['cat', 'dog']:  # Assuming folder names are 'cat' and 'dog'\n",
        "        folder_path = os.path.join(data_dir, label)\n",
        "        # Check if the folder exists before attempting to access it\n",
        "        if os.path.exists(folder_path):\n",
        "            for img_file in os.listdir(folder_path):\n",
        "                img_path = os.path.join(folder_path, img_file)\n",
        "                img = cv2.imread(img_path)\n",
        "                img = cv2.resize(img, img_size)  # Resize image\n",
        "                images.append(img)\n",
        "                labels.append(label)\n",
        "        else:\n",
        "            print(f\"Warning: Folder '{folder_path}' not found. Skipping.\")\n",
        "    return np.array(images), np.array(labels)\n",
        "\n",
        "# Load dataset\n",
        "!unzip cats-and-dogs.zip # Extract the zip file\n",
        "# Update data_dir to the actual path where images are located after unzip\n",
        "data_dir = './train'  # If the 'train' folder is directly inside 'cats-and-dogs' after unzipping\n",
        "# Alternatively, if there's a subfolder like 'PetImages' within 'cats-and-dogs':\n",
        "# data_dir = './cats-and-dogs/PetImages'\n",
        "# or './cats-and-dogs/train' if that is the correct structure.\n",
        "X, y = load_images(data_dir)\n",
        "# %%\n",
        "X = X / 255.0  # Normalize images to [0, 1]\n",
        "\n",
        "# %%\n",
        "le = LabelEncoder()\n",
        "y = le.fit_transform(y)  # Encode labels (0 for cat, 1 for dog)\n",
        "\n",
        "# %%\n",
        "\n",
        "# Print shapes for debugging\n",
        "print(\"Shape of X:\", X.shape)\n",
        "print(\"Shape of y:\", y.shape)\n",
        "# %%\n",
        "\n",
        "\n",
        "# Check if any images were loaded\n",
        "if X.size == 0:\n",
        "    print(\"Error: No images were loaded. Please check the data_dir and image files.\")\n",
        "else:\n",
        "    # Reshape X to a 2D array (flattening)\n",
        "    X_flat = X.reshape(X.shape[0], -1)  # -1 infers the remaining dimension\n",
        "\n",
        "    # Now you can use X_flat in train_test_split\n",
        "    X_train, X_test, y_train, y_test = train_test_split(X_flat, y, test_size=0.2, random_state=42)\n",
        "\n",
        "    # Initialize and train the SVM model here\n",
        "    svm = SVC(kernel='linear')"
      ],
      "metadata": {
        "colab": {
          "base_uri": "https://localhost:8080/"
        },
        "id": "wjiggHEzcSp1",
        "outputId": "63a87f7e-4bf1-4ae6-f60b-b50c1e765fa7"
      },
      "execution_count": null,
      "outputs": [
        {
          "output_type": "stream",
          "name": "stdout",
          "text": [
            "Drive already mounted at /content/drive; to attempt to forcibly remount, call drive.mount(\"/content/drive\", force_remount=True).\n",
            "cp: cannot stat '/content/drive/MyDrive/cats-and-dogs.zip': No such file or directory\n",
            "unzip:  cannot find or open cats-and-dogs.zip, cats-and-dogs.zip.zip or cats-and-dogs.zip.ZIP.\n",
            "Warning: Folder './train/cat' not found. Skipping.\n",
            "Warning: Folder './train/dog' not found. Skipping.\n",
            "Shape of X: (0,)\n",
            "Shape of y: (0,)\n",
            "Error: No images were loaded. Please check the data_dir and image files.\n"
          ]
        }
      ]
    },
    {
      "cell_type": "code",
      "source": [
        "import pickle\n",
        "\n",
        "# Save the model\n",
        "with open('svm_model.pkl', 'wb') as f:\n",
        "    pickle.dump(svm, f)\n",
        "\n",
        "# Load the model later\n",
        "with open('svm_model.pkl', 'rb') as f:\n",
        "    loaded_model = pickle.load(f)\n"
      ],
      "metadata": {
        "id": "cnJEBr2qcj8E"
      },
      "execution_count": null,
      "outputs": []
    },
    {
      "cell_type": "code",
      "source": [
        "def preprocess_image(img_path, img_size=(128, 128)):\n",
        "    img = cv2.imread(img_path)\n",
        "    if img is not None:  # Check if image was loaded successfully\n",
        "        img = cv2.resize(img, img_size)\n",
        "        img = img / 255.0  # Normalize the image\n",
        "        img_flat = img.reshape(1, -1)  # Flatten the image\n",
        "        return img_flat\n",
        "    else:\n",
        "        print(f\"Error: Could not load image '{img_path}'. Please check the path and file.\")\n",
        "        return None  # or raise an exception if you prefer\n",
        "\n",
        "new_image_path = './path/to/new/image.jpg'  # Update with your actual image path!\n",
        "img_flat = preprocess_image(new_image_path)\n",
        "\n",
        "if img_flat is not None:\n",
        "    # Proceed with your prediction or other operations here\n",
        "    pass"
      ],
      "metadata": {
        "colab": {
          "base_uri": "https://localhost:8080/"
        },
        "id": "cragqqEDcnAo",
        "outputId": "0ef86b9c-ae60-4332-c6ea-b06d978d1433"
      },
      "execution_count": null,
      "outputs": [
        {
          "output_type": "stream",
          "name": "stdout",
          "text": [
            "Error: Could not load image './path/to/new/image.jpg'. Please check the path and file.\n"
          ]
        }
      ]
    },
    {
      "cell_type": "code",
      "source": [],
      "metadata": {
        "id": "JUVNrDrgcyQ-"
      },
      "execution_count": null,
      "outputs": []
    }
  ]
}